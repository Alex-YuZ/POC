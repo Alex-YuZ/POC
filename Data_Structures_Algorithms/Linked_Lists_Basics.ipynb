{
 "cells": [
  {
   "cell_type": "markdown",
   "metadata": {},
   "source": [
    "# Implementing and traversing a linked list"
   ]
  },
  {
   "cell_type": "markdown",
   "metadata": {},
   "source": [
    "**Key Features of a naive linked_list**\n",
    "\n",
    "- node\n",
    "- a node stores both the value and the reference to the next node\n",
    "- stored non-contiguously in the memory"
   ]
  },
  {
   "cell_type": "markdown",
   "metadata": {},
   "source": [
    "## Implement a simple linked list manually"
   ]
  },
  {
   "cell_type": "code",
   "execution_count": 1,
   "metadata": {},
   "outputs": [],
   "source": [
    "# create a Node -- the most fundamental element in a linked_list\n",
    "class Node():\n",
    "    def __init__(self, value):\n",
    "        self.value = value\n",
    "        self.next = None"
   ]
  },
  {
   "cell_type": "code",
   "execution_count": 12,
   "metadata": {},
   "outputs": [
    {
     "name": "stdout",
     "output_type": "stream",
     "text": [
      "2\n",
      "1\n"
     ]
    }
   ],
   "source": [
    "# test\n",
    "head = Node(2)\n",
    "head.next = Node(1)\n",
    "\n",
    "print(head.value)\n",
    "print(head.next.value)\n"
   ]
  },
  {
   "cell_type": "code",
   "execution_count": 13,
   "metadata": {},
   "outputs": [
    {
     "name": "stdout",
     "output_type": "stream",
     "text": [
      "4\n",
      "3\n",
      "5\n"
     ]
    }
   ],
   "source": [
    "# if we want to continue to add 4, 3, 5 into a linked list, just do like this\n",
    "# add the third element\n",
    "head.next.next = Node(4)\n",
    "\n",
    "# add the fourth element\n",
    "head.next.next.next = Node(3)\n",
    "\n",
    "# add the fifth element\n",
    "head.next.next.next.next = Node(5)\n",
    "\n",
    "print(head.next.next.value)\n",
    "print(head.next.next.next.value)\n",
    "print(head.next.next.next.next.value)\n"
   ]
  },
  {
   "cell_type": "markdown",
   "metadata": {},
   "source": [
    "## Traversing a linked list"
   ]
  },
  {
   "cell_type": "code",
   "execution_count": null,
   "metadata": {},
   "outputs": [],
   "source": [
    "def print_linked_list(head):\n",
    "    \"\"\"\n",
    "    traverse all the elements in a linked list and \\nprint out them all.\n",
    "    \n",
    "    params:\n",
    "    -------\n",
    "        head: the head node of a linked list object\n",
    "    \n",
    "    returns:\n",
    "    --------\n",
    "        None\n",
    "    \n",
    "    \"\"\"\n",
    "    current_node = head\n",
    "\n",
    "    while current_node:\n",
    "        print(current_node.value)\n",
    "        current_node = current_node.next\n",
    "            "
   ]
  },
  {
   "cell_type": "code",
   "execution_count": 35,
   "metadata": {},
   "outputs": [],
   "source": [
    "print_linked_list(head)"
   ]
  },
  {
   "cell_type": "markdown",
   "metadata": {},
   "source": [
    "## Creating a linked list using iteration\n",
    "\n",
    "Transform a list into a linked list all at once."
   ]
  },
  {
   "cell_type": "markdown",
   "metadata": {},
   "source": [
    "###  version_1 that consumes $O(n^2)$ time complexity."
   ]
  },
  {
   "cell_type": "code",
   "execution_count": 17,
   "metadata": {},
   "outputs": [],
   "source": [
    "def create_linked_list_v1(input_list):\n",
    "    \"\"\"\n",
    "    Function to create a linked list\n",
    "    \n",
    "    params:\n",
    "    -----\n",
    "        input_list: list. a list of integers\n",
    "    \n",
    "    returns:\n",
    "    -------\n",
    "        the head node object of the linked list\n",
    "    \"\"\"\n",
    "    \n",
    "    head = None\n",
    "    \n",
    "    for ele in input_list:\n",
    "        if head is None:  # a.k.a: <if head:>\n",
    "            head = Node(ele)\n",
    "        else:\n",
    "            current_node = head\n",
    "            \n",
    "            while current_node.next:\n",
    "                current_node = current_node.next\n",
    "            \n",
    "            current_node.next = Node(ele)\n",
    "    \n",
    "    return head"
   ]
  },
  {
   "cell_type": "code",
   "execution_count": 18,
   "metadata": {},
   "outputs": [
    {
     "name": "stdout",
     "output_type": "stream",
     "text": [
      "1\n",
      "2\n",
      "3\n",
      "4\n",
      "5\n"
     ]
    }
   ],
   "source": [
    "a_list = [1, 2, 3, 4, 5]\n",
    "\n",
    "a_linked_list = create_linked_list_v1(a_list)\n",
    "\n",
    "print_linked_list(a_linked_list)"
   ]
  },
  {
   "cell_type": "code",
   "execution_count": 26,
   "metadata": {},
   "outputs": [
    {
     "name": "stdout",
     "output_type": "stream",
     "text": [
      "Pass\n",
      "Pass\n",
      "Pass\n"
     ]
    }
   ],
   "source": [
    "### Test Code\n",
    "def test_function(input_list, head):\n",
    "    try:\n",
    "        if len(input_list) == 0:\n",
    "            if head is not None:\n",
    "                print(\"Fail\")\n",
    "                return\n",
    "        for value in input_list:\n",
    "            if head.value != value:\n",
    "                print(\"Fail\")\n",
    "                return\n",
    "            else:\n",
    "                head = head.next\n",
    "        print(\"Pass\")\n",
    "    except Exception as e:\n",
    "        print(\"Fail: \"  + e)\n",
    "        \n",
    "        \n",
    "\n",
    "input_list = [1, 2, 3, 4, 5, 6]\n",
    "head = create_linked_list_v1(input_list)\n",
    "test_function(input_list, head)\n",
    "\n",
    "input_list = [1]\n",
    "head = create_linked_list_v1(input_list)\n",
    "test_function(input_list, head)\n",
    "\n",
    "input_list = []\n",
    "head = create_linked_list_v1(input_list)\n",
    "test_function(input_list, head)"
   ]
  },
  {
   "cell_type": "markdown",
   "metadata": {},
   "source": [
    "### Version_2 that consumes $O(n)$ time complexity\n",
    "\n",
    "Record the tail position at the end of every loop."
   ]
  },
  {
   "cell_type": "code",
   "execution_count": 21,
   "metadata": {},
   "outputs": [],
   "source": [
    "def create_linked_list_v2(input_list):\n",
    "    \n",
    "    head = None\n",
    "    tail = None\n",
    "    \n",
    "    for value in input_list:\n",
    "        \n",
    "        if head is None:  # a.k.a: <if not head:>\n",
    "            head = Node(value)\n",
    "            tail = head # when we only have 1 node, head and tail refer to the same node\n",
    "        else:\n",
    "            tail.next = Node(value) # attach the new node to the `next` of tail\n",
    "            tail = tail.next # update the tail\n",
    "            \n",
    "    return head"
   ]
  },
  {
   "cell_type": "code",
   "execution_count": 23,
   "metadata": {},
   "outputs": [
    {
     "name": "stdout",
     "output_type": "stream",
     "text": [
      "5\n",
      "4\n",
      "3\n",
      "2\n",
      "1\n"
     ]
    }
   ],
   "source": [
    "# instantiate a list\n",
    "a_list = [5, 4, 3, 2, 1]\n",
    "\n",
    "# transform it into a linked list\n",
    "a_linked_list = create_linked_list_v2(a_list)\n",
    "\n",
    "# print out all the elements in the linked list\n",
    "print_linked_list(a_linked_list)"
   ]
  },
  {
   "cell_type": "code",
   "execution_count": 25,
   "metadata": {},
   "outputs": [
    {
     "name": "stdout",
     "output_type": "stream",
     "text": [
      "Pass\n",
      "Pass\n",
      "Pass\n"
     ]
    }
   ],
   "source": [
    "### Test Code\n",
    "def test_function(input_list, head):\n",
    "    try:\n",
    "        if len(input_list) == 0:\n",
    "            if head is not None:\n",
    "                print(\"Fail\")\n",
    "                return\n",
    "        for value in input_list:\n",
    "            if head.value != value:\n",
    "                print(\"Fail\")\n",
    "                return\n",
    "            else:\n",
    "                head = head.next\n",
    "        print(\"Pass\")\n",
    "    except Exception as e:\n",
    "        print(\"Fail: \"  + e)\n",
    "        \n",
    "        \n",
    "\n",
    "input_list = [1, 2, 3, 4, 5, 6]\n",
    "head = create_linked_list_v2(input_list)\n",
    "test_function(input_list, head)\n",
    "\n",
    "input_list = [1]\n",
    "head = create_linked_list_v2(input_list)\n",
    "test_function(input_list, head)\n",
    "\n",
    "input_list = []\n",
    "head = create_linked_list_v2(input_list)\n",
    "test_function(input_list, head)"
   ]
  },
  {
   "cell_type": "code",
   "execution_count": null,
   "metadata": {},
   "outputs": [],
   "source": []
  }
 ],
 "metadata": {
  "kernelspec": {
   "display_name": "Python 3",
   "language": "python",
   "name": "python3"
  },
  "language_info": {
   "codemirror_mode": {
    "name": "ipython",
    "version": 3
   },
   "file_extension": ".py",
   "mimetype": "text/x-python",
   "name": "python",
   "nbconvert_exporter": "python",
   "pygments_lexer": "ipython3",
   "version": "3.7.9"
  }
 },
 "nbformat": 4,
 "nbformat_minor": 4
}
