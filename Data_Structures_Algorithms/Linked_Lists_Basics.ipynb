{
 "cells": [
  {
   "cell_type": "markdown",
   "metadata": {},
   "source": [
    "# Implementing and traversing a linked list"
   ]
  },
  {
   "cell_type": "markdown",
   "metadata": {},
   "source": [
    "**Key Features of a naive linked_list**\n",
    "\n",
    "- node\n",
    "- a node stores both the value and the reference to the next node\n",
    "- stored non-contiguously in the memory"
   ]
  },
  {
   "cell_type": "markdown",
   "metadata": {},
   "source": [
    "## Implement a simple linked list manually"
   ]
  },
  {
   "cell_type": "code",
   "execution_count": 1,
   "metadata": {},
   "outputs": [],
   "source": [
    "# create a Node -- the most fundamental element in a linked_list\n",
    "class Node():\n",
    "    def __init__(self, value):\n",
    "        self.value = value\n",
    "        self.next = None"
   ]
  },
  {
   "cell_type": "code",
   "execution_count": 12,
   "metadata": {},
   "outputs": [
    {
     "name": "stdout",
     "output_type": "stream",
     "text": [
      "2\n",
      "1\n"
     ]
    }
   ],
   "source": [
    "# test\n",
    "head = Node(2)\n",
    "head.next = Node(1)\n",
    "\n",
    "print(head.value)\n",
    "print(head.next.value)\n"
   ]
  },
  {
   "cell_type": "code",
   "execution_count": 13,
   "metadata": {},
   "outputs": [
    {
     "name": "stdout",
     "output_type": "stream",
     "text": [
      "4\n",
      "3\n",
      "5\n"
     ]
    }
   ],
   "source": [
    "# if we want to continue to add 4, 3, 5 into a linked list, just do like this\n",
    "# add the third element\n",
    "head.next.next = Node(4)\n",
    "\n",
    "# add the fourth element\n",
    "head.next.next.next = Node(3)\n",
    "\n",
    "# add the fifth element\n",
    "head.next.next.next.next = Node(5)\n",
    "\n",
    "print(head.next.next.value)\n",
    "print(head.next.next.next.value)\n",
    "print(head.next.next.next.next.value)\n"
   ]
  },
  {
   "cell_type": "markdown",
   "metadata": {},
   "source": [
    "## Traversing a linked list"
   ]
  },
  {
   "cell_type": "code",
   "execution_count": 49,
   "metadata": {},
   "outputs": [],
   "source": [
    "def print_linked_list(head):\n",
    "    \"\"\"\n",
    "    traverse all the elements in a linked list and \\nprint out them all.\n",
    "    \n",
    "    params:\n",
    "    -------\n",
    "        head: the head node of a linked list object\n",
    "    \n",
    "    returns:\n",
    "    --------\n",
    "        None\n",
    "    \n",
    "    \"\"\"\n",
    "    current_node = head\n",
    "\n",
    "    while current_node:\n",
    "        print(current_node.value)\n",
    "        current_node = current_node.next\n",
    "            "
   ]
  },
  {
   "cell_type": "code",
   "execution_count": 35,
   "metadata": {},
   "outputs": [],
   "source": [
    "print_linked_list(head)"
   ]
  },
  {
   "cell_type": "markdown",
   "metadata": {},
   "source": [
    "## Creating a linked list using iteration\n",
    "\n",
    "Transform a list into a linked list all at once."
   ]
  },
  {
   "cell_type": "markdown",
   "metadata": {},
   "source": [
    "###  version_1 that consumes $O(n^2)$ time complexity."
   ]
  },
  {
   "cell_type": "code",
   "execution_count": 17,
   "metadata": {},
   "outputs": [],
   "source": [
    "def create_linked_list_v1(input_list):\n",
    "    \"\"\"\n",
    "    Function to create a linked list\n",
    "    \n",
    "    params:\n",
    "    -----\n",
    "        input_list: list. a list of integers\n",
    "    \n",
    "    returns:\n",
    "    -------\n",
    "        the head node object of the linked list\n",
    "    \"\"\"\n",
    "    \n",
    "    head = None\n",
    "    \n",
    "    for ele in input_list:\n",
    "        if head is None:  # a.k.a: <if head:>\n",
    "            head = Node(ele)\n",
    "        else:\n",
    "            current_node = head\n",
    "            \n",
    "            while current_node.next:\n",
    "                current_node = current_node.next\n",
    "            \n",
    "            current_node.next = Node(ele)\n",
    "    \n",
    "    return head"
   ]
  },
  {
   "cell_type": "code",
   "execution_count": 18,
   "metadata": {},
   "outputs": [
    {
     "name": "stdout",
     "output_type": "stream",
     "text": [
      "1\n",
      "2\n",
      "3\n",
      "4\n",
      "5\n"
     ]
    }
   ],
   "source": [
    "a_list = [1, 2, 3, 4, 5]\n",
    "\n",
    "a_linked_list = create_linked_list_v1(a_list)\n",
    "\n",
    "print_linked_list(a_linked_list)"
   ]
  },
  {
   "cell_type": "code",
   "execution_count": 26,
   "metadata": {},
   "outputs": [
    {
     "name": "stdout",
     "output_type": "stream",
     "text": [
      "Pass\n",
      "Pass\n",
      "Pass\n"
     ]
    }
   ],
   "source": [
    "### Test Code\n",
    "def test_function(input_list, head):\n",
    "    try:\n",
    "        if len(input_list) == 0:\n",
    "            if head is not None:\n",
    "                print(\"Fail\")\n",
    "                return\n",
    "        for value in input_list:\n",
    "            if head.value != value:\n",
    "                print(\"Fail\")\n",
    "                return\n",
    "            else:\n",
    "                head = head.next\n",
    "        print(\"Pass\")\n",
    "    except Exception as e:\n",
    "        print(\"Fail: \"  + e)\n",
    "        \n",
    "        \n",
    "\n",
    "input_list = [1, 2, 3, 4, 5, 6]\n",
    "head = create_linked_list_v1(input_list)\n",
    "test_function(input_list, head)\n",
    "\n",
    "input_list = [1]\n",
    "head = create_linked_list_v1(input_list)\n",
    "test_function(input_list, head)\n",
    "\n",
    "input_list = []\n",
    "head = create_linked_list_v1(input_list)\n",
    "test_function(input_list, head)"
   ]
  },
  {
   "cell_type": "markdown",
   "metadata": {},
   "source": [
    "### Version_2 that consumes $O(n)$ time complexity\n",
    "\n",
    "Record the tail position at the end of every loop."
   ]
  },
  {
   "cell_type": "code",
   "execution_count": 21,
   "metadata": {},
   "outputs": [],
   "source": [
    "def create_linked_list_v2(input_list):\n",
    "    \n",
    "    head = None\n",
    "    tail = None\n",
    "    \n",
    "    for value in input_list:\n",
    "        \n",
    "        if head is None:  # a.k.a: <if not head:>\n",
    "            head = Node(value)\n",
    "            tail = head # when we only have 1 node, head and tail refer to the same node\n",
    "        else:\n",
    "            tail.next = Node(value) # attach the new node to the `next` of tail\n",
    "            tail = tail.next # update the tail\n",
    "            \n",
    "    return head"
   ]
  },
  {
   "cell_type": "code",
   "execution_count": 23,
   "metadata": {},
   "outputs": [
    {
     "name": "stdout",
     "output_type": "stream",
     "text": [
      "5\n",
      "4\n",
      "3\n",
      "2\n",
      "1\n"
     ]
    }
   ],
   "source": [
    "# instantiate a list\n",
    "a_list = [5, 4, 3, 2, 1]\n",
    "\n",
    "# transform it into a linked list\n",
    "a_linked_list = create_linked_list_v2(a_list)\n",
    "\n",
    "# print out all the elements in the linked list\n",
    "print_linked_list(a_linked_list)"
   ]
  },
  {
   "cell_type": "code",
   "execution_count": 25,
   "metadata": {},
   "outputs": [
    {
     "name": "stdout",
     "output_type": "stream",
     "text": [
      "Pass\n",
      "Pass\n",
      "Pass\n"
     ]
    }
   ],
   "source": [
    "### Test Code\n",
    "def test_function(input_list, head):\n",
    "    try:\n",
    "        if len(input_list) == 0:\n",
    "            if head is not None:\n",
    "                print(\"Fail\")\n",
    "                return\n",
    "        for value in input_list:\n",
    "            if head.value != value:\n",
    "                print(\"Fail\")\n",
    "                return\n",
    "            else:\n",
    "                head = head.next\n",
    "        print(\"Pass\")\n",
    "    except Exception as e:\n",
    "        print(\"Fail: \"  + e)\n",
    "        \n",
    "        \n",
    "\n",
    "input_list = [1, 2, 3, 4, 5, 6]\n",
    "head = create_linked_list_v2(input_list)\n",
    "test_function(input_list, head)\n",
    "\n",
    "input_list = [1]\n",
    "head = create_linked_list_v2(input_list)\n",
    "test_function(input_list, head)\n",
    "\n",
    "input_list = []\n",
    "head = create_linked_list_v2(input_list)\n",
    "test_function(input_list, head)"
   ]
  },
  {
   "cell_type": "markdown",
   "metadata": {},
   "source": [
    "---\n",
    "# Different Types of Linked Lists\n",
    "\n",
    "    \n",
    "- Singly Linked Lists\n",
    "   \n",
    "- Doubly Linked Lists\n",
    "\n",
    "- Circular Linked Lists\n"
   ]
  },
  {
   "cell_type": "markdown",
   "metadata": {},
   "source": [
    "## 1. Singly Linked Lists"
   ]
  },
  {
   "cell_type": "code",
   "execution_count": 61,
   "metadata": {},
   "outputs": [],
   "source": [
    "class Node():\n",
    "    def __init__(self, value):\n",
    "        self.value = value\n",
    "        self.next = None\n",
    "        \n",
    "        \n",
    "class LinkedList():\n",
    "    def __init__(self):\n",
    "        self.head = None\n",
    "        \n",
    "    # add a feature method to append an element at the end of linked list\n",
    "    def append(self, value):\n",
    "        if self.head == None:\n",
    "            self.head = Node(value)\n",
    "            return\n",
    "        \n",
    "        current_node = self.head\n",
    "        \n",
    "        # iterate until the end of the linked list\n",
    "        while current_node.next:\n",
    "            current_node = current_node.next\n",
    "            \n",
    "        current_node.next = Node(value)\n",
    "        return \n",
    "    \n",
    "    # add a feature that converts a linked list back into a python list.\n",
    "    def to_list(self):\n",
    "        out_list = []\n",
    "        \n",
    "        current_node = self.head\n",
    "        while current_node:\n",
    "            out_list.append(current_node.value)\n",
    "            current_node = current_node.next\n",
    "        return out_list\n"
   ]
  },
  {
   "cell_type": "code",
   "execution_count": 64,
   "metadata": {},
   "outputs": [],
   "source": [
    "linked_list = LinkedList()\n",
    "\n",
    "linked_list.append(1)\n",
    "linked_list.append(2)\n",
    "linked_list.append(4)\n",
    "linked_list.append(6)"
   ]
  },
  {
   "cell_type": "code",
   "execution_count": 66,
   "metadata": {},
   "outputs": [
    {
     "name": "stdout",
     "output_type": "stream",
     "text": [
      "Pass\n"
     ]
    }
   ],
   "source": [
    "# test the append() method\n",
    "if linked_list.head.value == 1 and linked_list.head.next.value == 2 \\\n",
    "and linked_list.head.next.next.value == 4 and linked_list.head.next.next.next.value == 6:\n",
    "    print('Pass')\n",
    "    \n",
    "else:\n",
    "    print('Fail')"
   ]
  },
  {
   "cell_type": "code",
   "execution_count": 55,
   "metadata": {},
   "outputs": [],
   "source": [
    "# Alert! This print_linked_list function is different from the previuos \\\n",
    "# one as the input param is different! The input for the previous one is \\\n",
    "# the head of a linked list, while this one is a whole linked list object.\n",
    "\n",
    "def print_LinkedList(ll):\n",
    "    \"\"\"\n",
    "    print out all the elements in a linked list.\n",
    "    \n",
    "    Params:\n",
    "    -------\n",
    "        ll: a linked list object\n",
    "        \n",
    "    Returns:\n",
    "    --------\n",
    "        None\n",
    "    \n",
    "    \"\"\"\n",
    "    current_node = ll.head\n",
    "    \n",
    "    while current_node:\n",
    "        print(current_node.value)\n",
    "        current_node = current_node.next"
   ]
  },
  {
   "cell_type": "code",
   "execution_count": 56,
   "metadata": {},
   "outputs": [
    {
     "name": "stdout",
     "output_type": "stream",
     "text": [
      "1\n",
      "2\n",
      "4\n"
     ]
    }
   ],
   "source": [
    "print_LinkedList(linked_list)"
   ]
  },
  {
   "cell_type": "code",
   "execution_count": 63,
   "metadata": {},
   "outputs": [
    {
     "data": {
      "text/plain": [
       "[1, 2, 4]"
      ]
     },
     "execution_count": 63,
     "metadata": {},
     "output_type": "execute_result"
    }
   ],
   "source": [
    "# Test the to_list method\n",
    "linked_list = LinkedList()\n",
    "linked_list.append(3)\n",
    "linked_list.append(2)\n",
    "linked_list.append(-1)\n",
    "linked_list.append(0.2)\n",
    "\n",
    "print (\"Pass\" if  (linked_list.to_list() == [3, 2, -1, 0.2]) else \"Fail\")"
   ]
  },
  {
   "cell_type": "markdown",
   "metadata": {},
   "source": [
    "## 2. Doubly Linked Lists\n",
    "\n",
    "**<font color='red'>A doubly linked list that can append to the tail in constant time!</font>**"
   ]
  },
  {
   "cell_type": "code",
   "execution_count": 75,
   "metadata": {},
   "outputs": [],
   "source": [
    "class DoubleNode():\n",
    "    def __init__(self, value):\n",
    "        self.value = value\n",
    "        self.next = None\n",
    "        self.previous = None\n",
    "        \n",
    "        \n",
    "class DoublyLinkedList():\n",
    "    def __init__(self):\n",
    "        self.head = None\n",
    "        self.tail = None\n",
    "        \n",
    "    def append(self, value):\n",
    "        if self.head == None:\n",
    "            self.head = DoubleNode(value)\n",
    "            self.tail = self.head\n",
    "            return\n",
    "            \n",
    "        self.tail.next = DoubleNode(value)\n",
    "        self.tail.next.previous = self.tail\n",
    "        self.tail = self.tail.next\n",
    "        return\n",
    "        "
   ]
  },
  {
   "cell_type": "code",
   "execution_count": 76,
   "metadata": {},
   "outputs": [],
   "source": [
    "db_list = DoublyLinkedList()\n",
    "db_list.append(1)\n",
    "db_list.append(2)\n",
    "db_list.append(4)\n",
    "db_list.append(6)"
   ]
  },
  {
   "cell_type": "code",
   "execution_count": 78,
   "metadata": {},
   "outputs": [
    {
     "name": "stdout",
     "output_type": "stream",
     "text": [
      "1\n",
      "2\n",
      "4\n",
      "6\n"
     ]
    }
   ],
   "source": [
    "# print out all the elements in the doubly linked list in order.\n",
    "current_node = db_list.head\n",
    "\n",
    "while current_node:\n",
    "    print(current_node.value)\n",
    "    current_node = current_node.next"
   ]
  },
  {
   "cell_type": "code",
   "execution_count": 79,
   "metadata": {},
   "outputs": [
    {
     "name": "stdout",
     "output_type": "stream",
     "text": [
      "6\n",
      "4\n",
      "2\n",
      "1\n"
     ]
    }
   ],
   "source": [
    "# print out all the elements in the doubly linked list REVERSELY.\n",
    "current_node = db_list.tail\n",
    "\n",
    "while current_node:\n",
    "    print(current_node.value)\n",
    "    current_node = current_node.previous"
   ]
  },
  {
   "cell_type": "markdown",
   "metadata": {},
   "source": [
    "**The following function wraps up the two print-out feature above together.**"
   ]
  },
  {
   "cell_type": "code",
   "execution_count": 80,
   "metadata": {},
   "outputs": [],
   "source": [
    "def print_DoubleLinkedList(ll, reverse=False):\n",
    "    \"\"\"\n",
    "    print out all the elements in a linked list in order or reversely.\n",
    "    \n",
    "    Params:\n",
    "    -------\n",
    "        ll: a doubly linked list object\n",
    "        reverse: boolean. False by default, i.e. print out in order\n",
    "    \n",
    "    Returns:\n",
    "        None\n",
    "    \"\"\"\n",
    "    \n",
    "    if reverse:\n",
    "        current_node = db_list.tail\n",
    "\n",
    "        while current_node:\n",
    "            print(current_node.value)\n",
    "            current_node = current_node.previous\n",
    "            \n",
    "    else:\n",
    "        current_node = db_list.head\n",
    "\n",
    "        while current_node:\n",
    "            print(current_node.value)\n",
    "            current_node = current_node.next\n",
    "        "
   ]
  },
  {
   "cell_type": "code",
   "execution_count": 81,
   "metadata": {},
   "outputs": [
    {
     "name": "stdout",
     "output_type": "stream",
     "text": [
      "1\n",
      "2\n",
      "4\n",
      "6\n"
     ]
    }
   ],
   "source": [
    "print_DoubleLinkedList(db_list)"
   ]
  },
  {
   "cell_type": "code",
   "execution_count": 82,
   "metadata": {},
   "outputs": [
    {
     "name": "stdout",
     "output_type": "stream",
     "text": [
      "6\n",
      "4\n",
      "2\n",
      "1\n"
     ]
    }
   ],
   "source": [
    "print_DoubleLinkedList(db_list, reverse=True)"
   ]
  },
  {
   "cell_type": "markdown",
   "metadata": {},
   "source": [
    "## Circular Linked Lists"
   ]
  },
  {
   "cell_type": "markdown",
   "metadata": {},
   "source": []
  },
  {
   "cell_type": "code",
   "execution_count": null,
   "metadata": {},
   "outputs": [],
   "source": []
  },
  {
   "cell_type": "markdown",
   "metadata": {},
   "source": [
    "---\n",
    "## Add more methods to the linked list objects"
   ]
  },
  {
   "cell_type": "markdown",
   "metadata": {},
   "source": [
    "+ Append data to the tail of the list and prepend to the head\n",
    "+ Search the linked list for a value and return the node\n",
    "+ Remove a node\n",
    "+ Pop, which means to return the first node's value and delete the node from the list\n",
    "+ Insert data at some position in the list\n",
    "+ Return the size (length) of the linked lis"
   ]
  },
  {
   "cell_type": "code",
   "execution_count": 85,
   "metadata": {},
   "outputs": [],
   "source": [
    "class Node:\n",
    "    def __init__(self, value):\n",
    "        self.value = value\n",
    "        self.next = None\n",
    "        \n",
    "class LinkedList:\n",
    "    def __init__(self):\n",
    "        self.head = None\n",
    "\n",
    "    def to_list(self):\n",
    "        out = []\n",
    "        node = self.head\n",
    "        while node:\n",
    "            out.append(node.value)\n",
    "            node = node.next\n",
    "        return out\n",
    "    \n",
    "    # prepend data to the head\n",
    "    def prepend(self, value):\n",
    "        \"\"\" Prepend a value to the beginning of the list. \n",
    "    \n",
    "        \n",
    "        \"\"\"\n",
    "        if self.head is None:\n",
    "            self.head = Node(value)\n",
    "            return\n",
    "\n",
    "        new_head = Node(value)\n",
    "        new_head.next = self.head\n",
    "        self.head = new_head\n",
    "\n",
    "\n",
    "    def append(self, value):\n",
    "        \"\"\"\n",
    "        add a value to the end of the linked list.\n",
    "        \n",
    "        Params:\n",
    "        -------\n",
    "            value: numeric. The number to be appended.\n",
    "            \n",
    "        Returns:\n",
    "        --------\n",
    "            None\n",
    "        \n",
    "        \"\"\"\n",
    "        if not self.head:\n",
    "            self.head = Node(value)\n",
    "            return\n",
    "        \n",
    "        current_node = self.head\n",
    "        \n",
    "        # iterate until the end of the linked list\n",
    "        while current_node.next:\n",
    "            current_node = current_node.next\n",
    "            \n",
    "        current_node.next = Node(value)\n",
    "        return \n",
    "\n",
    "\n",
    "    def search(self, value):\n",
    "        \"\"\" Search the linked list for a node with the requested value and return the node. \"\"\"\n",
    "        if self.head is None:\n",
    "            return None\n",
    "\n",
    "        node = self.head\n",
    "        while node:\n",
    "            if node.value == value:\n",
    "                return node\n",
    "            node = node.next\n",
    "\n",
    "        raise ValueError(\"Value not found in the list.\")\n",
    "        \n",
    "        \n",
    "    def remove(self, value):\n",
    "        \"\"\" Delete the first node with the desired data. \"\"\"\n",
    "        if self.head is None:\n",
    "            return\n",
    "\n",
    "        if self.head.value == value:\n",
    "            self.head = self.head.next\n",
    "            return\n",
    "\n",
    "        node = self.head\n",
    "        while node.next:\n",
    "            if node.next.value == value:\n",
    "                node.next = node.next.next\n",
    "                return\n",
    "            node = node.next\n",
    "\n",
    "        raise ValueError(\"Value not found in the list.\")\n",
    "        \n",
    "        \n",
    "    def pop(self):\n",
    "        \"\"\" \n",
    "        Return the first node's value and remove it from the list. \n",
    "        \n",
    "        Params:\n",
    "        ------\n",
    "            None\n",
    "            \n",
    "        Returns:\n",
    "        --------\n",
    "            None\n",
    "        \n",
    "        \"\"\"\n",
    "        \n",
    "        if self.head is None:\n",
    "            return None\n",
    "\n",
    "        head_node = self.head\n",
    "        self.head = self.head.next\n",
    "\n",
    "        return head_node.value\n",
    "    \n",
    "    \n",
    "    def insert(self, value, pos):\n",
    "        \"\"\" \n",
    "        Insert value at pos position in the list. If pos is larger than the\n",
    "        length of the list, append to the end of the list.\n",
    "        \n",
    "        Params:\n",
    "        -------\n",
    "            value: numeric. the number to be inserted.\n",
    "            pos: int. the index for the value to be inserted.\n",
    "            \n",
    "        Returns:\n",
    "        --------\n",
    "            None\n",
    "        \n",
    "        \"\"\"\n",
    "        # If the list is empty \n",
    "        if self.head is None:\n",
    "            self.head = Node(value)\n",
    "            return\n",
    "\n",
    "        if pos == 0:\n",
    "            self.prepend(value)\n",
    "            return\n",
    "\n",
    "        index = 0\n",
    "        node = self.head\n",
    "        while node.next and index <= pos:\n",
    "            if (pos - 1) == index:\n",
    "                new_node = Node(value)\n",
    "                new_node.next = node.next\n",
    "                node.next = new_node\n",
    "                return\n",
    "\n",
    "            index += 1\n",
    "            node = node.next\n",
    "        \n",
    "        else:\n",
    "            self.append(value)\n",
    "                \n",
    "                \n",
    "    def size(self):\n",
    "        \"\"\" \n",
    "        Return the size or length of the linked list. \n",
    "        \n",
    "        Params:\n",
    "        -------\n",
    "            None\n",
    "            \n",
    "        Returns:\n",
    "        --------\n",
    "            None\n",
    "        \n",
    "        \"\"\"\n",
    "        \n",
    "        size = 0\n",
    "        node = self.head\n",
    "        while node:\n",
    "            size += 1\n",
    "            node = node.next\n",
    "\n",
    "        return size\n",
    "    \n",
    "    \n",
    "    def to_list(self):\n",
    "        \"\"\"\n",
    "        convert a linked list type to a list type\n",
    "        \n",
    "        Params:\n",
    "        -------\n",
    "            None\n",
    "            \n",
    "        Returns:\n",
    "        --------\n",
    "            None\n",
    "        \n",
    "        \"\"\"\n",
    "        \n",
    "        out_list = []\n",
    "        \n",
    "        current_node = self.head\n",
    "        while current_node:\n",
    "            out_list.append(current_node.value)\n",
    "            current_node = current_node.next\n",
    "        return out_list"
   ]
  },
  {
   "cell_type": "code",
   "execution_count": 86,
   "metadata": {},
   "outputs": [],
   "source": [
    "# Test prepend\n",
    "linked_list = LinkedList()\n",
    "linked_list.prepend(1)\n",
    "assert linked_list.to_list() == [1], f\"list contents: {linked_list.to_list()}\""
   ]
  },
  {
   "cell_type": "code",
   "execution_count": 87,
   "metadata": {},
   "outputs": [],
   "source": [
    "# Test append - 1\n",
    "linked_list.append(3)\n",
    "linked_list.prepend(2)\n",
    "assert linked_list.to_list() == [2, 1, 3], f\"list contents: {linked_list.to_list()}\""
   ]
  },
  {
   "cell_type": "code",
   "execution_count": 88,
   "metadata": {},
   "outputs": [],
   "source": [
    "# Test append - 2\n",
    "linked_list = LinkedList()\n",
    "linked_list.append(1)\n",
    "assert linked_list.to_list() == [1], f\"list contents: {linked_list.to_list()}\"\n",
    "linked_list.append(3)\n",
    "assert linked_list.to_list() == [1, 3], f\"list contents: {linked_list.to_list()}\""
   ]
  },
  {
   "cell_type": "code",
   "execution_count": 89,
   "metadata": {},
   "outputs": [],
   "source": [
    "# Test search\n",
    "linked_list.prepend(2)\n",
    "linked_list.prepend(1)\n",
    "linked_list.append(4)\n",
    "linked_list.append(3)\n",
    "assert linked_list.search(1).value == 1, f\"list contents: {linked_list.to_list()}\"\n",
    "assert linked_list.search(4).value == 4, f\"list contents: {linked_list.to_list()}\""
   ]
  },
  {
   "cell_type": "code",
   "execution_count": 90,
   "metadata": {},
   "outputs": [],
   "source": [
    "# Test remove\n",
    "linked_list.remove(1)\n",
    "assert linked_list.to_list() == [2, 1, 3, 4, 3], f\"list contents: {linked_list.to_list()}\"\n",
    "linked_list.remove(3)\n",
    "assert linked_list.to_list() == [2, 1, 4, 3], f\"list contents: {linked_list.to_list()}\"\n",
    "linked_list.remove(3)\n",
    "assert linked_list.to_list() == [2, 1, 4], f\"list contents: {linked_list.to_list()}\""
   ]
  },
  {
   "cell_type": "code",
   "execution_count": 91,
   "metadata": {},
   "outputs": [],
   "source": [
    "# Test pop\n",
    "value = linked_list.pop()\n",
    "assert value == 2, f\"list contents: {linked_list.to_list()}\"\n",
    "assert linked_list.head.value == 1, f\"list contents: {linked_list.to_list()}\""
   ]
  },
  {
   "cell_type": "code",
   "execution_count": 92,
   "metadata": {},
   "outputs": [],
   "source": [
    "# Test insert \n",
    "linked_list.insert(5, 0)\n",
    "assert linked_list.to_list() == [5, 1, 4], f\"list contents: {linked_list.to_list()}\"\n",
    "linked_list.insert(2, 1)\n",
    "assert linked_list.to_list() == [5, 2, 1, 4], f\"list contents: {linked_list.to_list()}\"\n",
    "linked_list.insert(3, 6)\n",
    "assert linked_list.to_list() == [5, 2, 1, 4, 3], f\"list contents: {linked_list.to_list()}\""
   ]
  },
  {
   "cell_type": "code",
   "execution_count": 93,
   "metadata": {},
   "outputs": [],
   "source": [
    "# Test size function\n",
    "assert linked_list.size() == 5, f\"list contents: {linked_list.to_list()}\""
   ]
  },
  {
   "cell_type": "code",
   "execution_count": null,
   "metadata": {},
   "outputs": [],
   "source": []
  },
  {
   "cell_type": "code",
   "execution_count": null,
   "metadata": {},
   "outputs": [],
   "source": []
  },
  {
   "cell_type": "code",
   "execution_count": null,
   "metadata": {},
   "outputs": [],
   "source": []
  }
 ],
 "metadata": {
  "kernelspec": {
   "display_name": "Python 3",
   "language": "python",
   "name": "python3"
  },
  "language_info": {
   "codemirror_mode": {
    "name": "ipython",
    "version": 3
   },
   "file_extension": ".py",
   "mimetype": "text/x-python",
   "name": "python",
   "nbconvert_exporter": "python",
   "pygments_lexer": "ipython3",
   "version": "3.7.9"
  }
 },
 "nbformat": 4,
 "nbformat_minor": 4
}
